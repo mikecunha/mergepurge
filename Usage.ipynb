{
 "cells": [
  {
   "cell_type": "markdown",
   "metadata": {},
   "source": [
    "# Using mergepurge\n",
    "\n",
    "This is an example of how to use the mergepurge python package using the same fake data used in the package tests.\n",
    "\n",
    "In it, the goal will be to take a file of contacts with incomplete data for each record and add an email address from a separate file of more complete contact records.\n",
    "\n",
    "\n",
    "\n",
    "[Load Some Partial Contact Data](#Load-Some-Partial-Contact-Data)\n",
    "\n",
    "[Make Standardized Columns to Match Contacts With](#Make-Standardized-Columns-to-Match-Contacts-With)\n",
    "\n",
    "    Examples of data with supported formats (or lack thereof)\n",
    "\n",
    "[Load Additional Contact Data to Match with the Incomplete Data](#Load-Additional-Contact-Data-to-Match-with-the-Incomplete-Data)\n",
    "\n",
    "[Search for Each Incomplete Contact in the DataFrame of Complete Contacts](#Search-for-Each-Incomplete-Contact-in-the-DataFrame-of-Complete-Contacts)\n",
    "\n",
    "[Add Columns from Complete DataFrame to Matching Records of the Incomplete DataFrame](#Add-Columns-from-Complete-DataFrame-to-Matching-Records-of-the-Incomplete-DataFrame)\n",
    "\n",
    "[Cleanup](#Cleanup) - Get rid of matching columns.\n",
    "\n",
    "[System Info](#System-Info) - The env. used to create this notebook."
   ]
  },
  {
   "cell_type": "code",
   "execution_count": 1,
   "metadata": {
    "collapsed": false,
    "deletable": true,
    "editable": true
   },
   "outputs": [],
   "source": [
    "%load_ext autoreload\n",
    "%autoreload 2\n",
    "from IPython.display import HTML"
   ]
  },
  {
   "cell_type": "code",
   "execution_count": 2,
   "metadata": {
    "collapsed": false,
    "deletable": true,
    "editable": true
   },
   "outputs": [
    {
     "data": {
      "text/html": [
       "<!-- make tables display a little nicer in markdown cells -->\n",
       "<style>table {float:left;}</style>"
      ],
      "text/plain": [
       "<IPython.core.display.HTML object>"
      ]
     },
     "metadata": {},
     "output_type": "display_data"
    }
   ],
   "source": [
    "%%html \n",
    "<!-- make tables display a little nicer in markdown cells -->\n",
    "<style>table {float:left;}</style>"
   ]
  },
  {
   "cell_type": "markdown",
   "metadata": {
    "deletable": true,
    "editable": true
   },
   "source": [
    "## Load Some Partial Contact Data\n",
    "\n",
    "The data loaded here was created for testing and made with the [barnum](https://pypi.python.org/pypi/barnum/0.5.1) python package. \n",
    "\n",
    "Data like this are common in purchased email lists and tools that use them like Marketo, and in customer relationship management (CRM) platforms like SalesForce."
   ]
  },
  {
   "cell_type": "code",
   "execution_count": 3,
   "metadata": {
    "collapsed": true,
    "deletable": true,
    "editable": true
   },
   "outputs": [],
   "source": [
    "import os, sys\n",
    "import pandas as pd\n",
    "\n",
    "PARTIAL_PATH = os.path.join('tests', 'incomplete.tsv')\n",
    "\n",
    "# ensure numbers with potentially leading zeros are read as strings\n",
    "PARTIAL_DTYPES = {'zipcode': str}\n",
    "\n",
    "partial = pd.read_csv(PARTIAL_PATH, sep='\\t', encoding='utf-8', dtype=PARTIAL_DTYPES)\n",
    "\n",
    "# drop some un-needed testing columns for this notebook\n",
    "partial.drop(['email', 'change'], axis=1, inplace=True)"
   ]
  },
  {
   "cell_type": "code",
   "execution_count": 4,
   "metadata": {
    "collapsed": false,
    "deletable": true,
    "editable": true
   },
   "outputs": [
    {
     "data": {
      "text/html": [
       "<div>\n",
       "<table border=\"1\" class=\"dataframe\">\n",
       "  <thead>\n",
       "    <tr style=\"text-align: right;\">\n",
       "      <th></th>\n",
       "      <th>ID</th>\n",
       "      <th>address</th>\n",
       "      <th>city</th>\n",
       "      <th>company</th>\n",
       "      <th>first</th>\n",
       "      <th>last</th>\n",
       "      <th>state</th>\n",
       "      <th>zipcode</th>\n",
       "    </tr>\n",
       "  </thead>\n",
       "  <tbody>\n",
       "    <tr>\n",
       "      <th>0</th>\n",
       "      <td>0</td>\n",
       "      <td>3386 Oakgreen   Cove</td>\n",
       "      <td>Kieler</td>\n",
       "      <td>Research Software Limited</td>\n",
       "      <td>NaN</td>\n",
       "      <td>NaN</td>\n",
       "      <td>WI</td>\n",
       "      <td>53812</td>\n",
       "    </tr>\n",
       "    <tr>\n",
       "      <th>1</th>\n",
       "      <td>1</td>\n",
       "      <td>8042 Tall Pine Trail</td>\n",
       "      <td>Sheffield</td>\n",
       "      <td>Solutions Speed Omega</td>\n",
       "      <td>Robert</td>\n",
       "      <td>Bannister</td>\n",
       "      <td>IL</td>\n",
       "      <td>61361</td>\n",
       "    </tr>\n",
       "    <tr>\n",
       "      <th>2</th>\n",
       "      <td>2</td>\n",
       "      <td>9683 Memorial Trail</td>\n",
       "      <td>Malvern</td>\n",
       "      <td>Source Analysis Vision</td>\n",
       "      <td>NaN</td>\n",
       "      <td>NaN</td>\n",
       "      <td>PA</td>\n",
       "      <td>19355</td>\n",
       "    </tr>\n",
       "    <tr>\n",
       "      <th>3</th>\n",
       "      <td>3</td>\n",
       "      <td>4172 Hunters Horn Way Suite 100</td>\n",
       "      <td>Hoople</td>\n",
       "      <td>NaN</td>\n",
       "      <td>NaN</td>\n",
       "      <td>Donahue</td>\n",
       "      <td>ND</td>\n",
       "      <td>58243</td>\n",
       "    </tr>\n",
       "    <tr>\n",
       "      <th>4</th>\n",
       "      <td>4</td>\n",
       "      <td>4348 Perkins Parkway</td>\n",
       "      <td>Belvidere</td>\n",
       "      <td>Net West</td>\n",
       "      <td>Josefa</td>\n",
       "      <td>Horsley</td>\n",
       "      <td>NC</td>\n",
       "      <td>27919</td>\n",
       "    </tr>\n",
       "  </tbody>\n",
       "</table>\n",
       "</div>"
      ],
      "text/plain": [
       "   ID                          address        city                    company  \\\n",
       "0   0             3386 Oakgreen   Cove      Kieler  Research Software Limited   \n",
       "1   1             8042 Tall Pine Trail   Sheffield      Solutions Speed Omega   \n",
       "2   2              9683 Memorial Trail     Malvern     Source Analysis Vision   \n",
       "3   3  4172 Hunters Horn Way Suite 100      Hoople                        NaN   \n",
       "4   4             4348 Perkins Parkway   Belvidere                   Net West   \n",
       "\n",
       "    first       last state zipcode  \n",
       "0     NaN        NaN    WI   53812  \n",
       "1  Robert  Bannister    IL   61361  \n",
       "2     NaN        NaN    PA   19355  \n",
       "3     NaN    Donahue    ND   58243  \n",
       "4  Josefa    Horsley    NC   27919  "
      ]
     },
     "execution_count": 4,
     "metadata": {},
     "output_type": "execute_result"
    }
   ],
   "source": [
    "partial.head()"
   ]
  },
  {
   "cell_type": "markdown",
   "metadata": {},
   "source": [
    "## Make Standardized Columns to Match Contacts With\n",
    "\n",
    "This is where mergepurge can save you lots of time. You just need to define which columns contain the relevant data, they don't have to be named a certain way or contain values in a specific format. Empty values are ok, as are some notes and other \"non-contact\" info appended to values. \n",
    "\n",
    "### Examples of data with supported formats - or lack there-of\n",
    "\n",
    "\n",
    "Name             | Address 1            | Address 2          | City         | State | Zip\n",
    "---------------- | -------------------- | ------------------ | ------------ | ----- | ------\n",
    "Dr. Leo Spaceman | 30 Rockefeller Plaza | GE Bldg            | New York     | NY    | 10112\n",
    "Dr. Spaceman     | Attn: Leo            | 30 Rockefeller Plz | New York     | NY    | 10112"
   ]
  },
  {
   "cell_type": "markdown",
   "metadata": {
    "deletable": true,
    "editable": true
   },
   "source": [
    "name             | address                        | city         | state\n",
    "---------------- | ------------------------------ | ------------ | ----- \n",
    "Dr. Leo Spaceman | 30 Rockefeller Plaza, GE Bldg  | New York     | NY    \n",
    "Dr Spaceman      | Attn: Leo - 30 Rockefeller Plz | New York     | NY    "
   ]
  },
  {
   "cell_type": "markdown",
   "metadata": {},
   "source": [
    "  \n",
    "title  | first_name   | last name | Address                        | City         | State\n",
    "------ | ------------ | --------- | ------------------------------ | ------------ | ----- \n",
    "       | Leo          | Spaceman  | 30 Rockefeller Plaza, GE Bldg  | New York     | NY    \n",
    "       | Doctor       | spaceman  | Attn: Leo - 30 Rockefeller Plz | New York     | NY    \n",
    "Dr     | notavailable | spaceman  | 30 Rockefeller Plaza           | New York     | NY    "
   ]
  },
  {
   "cell_type": "markdown",
   "metadata": {
    "deletable": true,
    "editable": true
   },
   "source": [
    "All of the above tables of data should work fine as input. \n",
    "\n",
    "Notice, not only are there different column names and columns, but there are missing values and pieces of information occuring in the wrong column as well. All of those scenarios should be handled ok as long as mixed up data occurs in the same type of column (location, name, or business name) and you pass the correct order of columns to `build_matching_cols()`, e.g. `contact_cols=['title','first','last']` and not `contact-cols=['last','first']`.\n",
    "\n",
    "Now let's build the standardized columns for the incomplete data we have already loaded."
   ]
  },
  {
   "cell_type": "code",
   "execution_count": 5,
   "metadata": {
    "collapsed": true,
    "deletable": true,
    "editable": true
   },
   "outputs": [],
   "source": [
    "from mergepurge import clean\n",
    "\n",
    "PART_LOC_COLS     = ['address', 'city', 'state', 'zipcode']\n",
    "PART_CONTACT_COLS = ['first', 'last']\n",
    "PART_COMPANY_COLS = ['company']\n",
    "\n",
    "partial = clean.build_matching_cols(partial, \n",
    "                                    PART_LOC_COLS,\n",
    "                                    PART_CONTACT_COLS,\n",
    "                                    PART_COMPANY_COLS)"
   ]
  },
  {
   "cell_type": "code",
   "execution_count": 6,
   "metadata": {
    "collapsed": false,
    "deletable": true,
    "editable": true
   },
   "outputs": [
    {
     "name": "stdout",
     "output_type": "stream",
     "text": [
      "<class 'pandas.core.frame.DataFrame'>\n",
      "RangeIndex: 20 entries, 0 to 19\n",
      "Data columns (total 19 columns):\n",
      "ID              20 non-null int64\n",
      "address         19 non-null object\n",
      "city            19 non-null object\n",
      "company         12 non-null object\n",
      "first           14 non-null object\n",
      "last            13 non-null object\n",
      "state           19 non-null object\n",
      "zipcode         19 non-null object\n",
      "aa_streetnum    19 non-null object\n",
      "aa_street       19 non-null object\n",
      "aa_city         19 non-null object\n",
      "aa_state        19 non-null object\n",
      "aa_zip          19 non-null object\n",
      "aa_fulladdy     20 non-null object\n",
      "aa_title        0 non-null float64\n",
      "aa_firstname    14 non-null object\n",
      "aa_lastname     13 non-null object\n",
      "aa_fullname     12 non-null object\n",
      "aa_company      20 non-null object\n",
      "dtypes: float64(1), int64(1), object(17)\n",
      "memory usage: 3.0+ KB\n"
     ]
    }
   ],
   "source": [
    "partial.info()"
   ]
  },
  {
   "cell_type": "markdown",
   "metadata": {},
   "source": [
    "The dataframe info shows that a whole bunch of columns were appended to the end of the dataframe, all of them prefixed with `aa_`.\n",
    "\n",
    "If you take a look at the data you'll see it's not going to be useful for much outside of features for a matching algorithm because many components of business names and addresses have been omitted. This is done to standardize values as much as possible and throw away the ambigous or overly common pieces of information that tend to cause bad matches, e.g. 'LLC' or other business entity types in business names."
   ]
  },
  {
   "cell_type": "code",
   "execution_count": 7,
   "metadata": {
    "collapsed": false
   },
   "outputs": [
    {
     "data": {
      "text/html": [
       "<table border=\"1\" class=\"dataframe\">\n",
       "  <thead>\n",
       "    <tr style=\"text-align: right;\">\n",
       "      <th></th>\n",
       "      <th>ID</th>\n",
       "      <th>address</th>\n",
       "      <th>city</th>\n",
       "      <th>company</th>\n",
       "      <th>first</th>\n",
       "      <th>last</th>\n",
       "      <th>state</th>\n",
       "      <th>zipcode</th>\n",
       "      <th>aa_streetnum</th>\n",
       "      <th>aa_street</th>\n",
       "      <th>aa_city</th>\n",
       "      <th>aa_state</th>\n",
       "      <th>aa_zip</th>\n",
       "      <th>aa_fulladdy</th>\n",
       "      <th>aa_title</th>\n",
       "      <th>aa_firstname</th>\n",
       "      <th>aa_lastname</th>\n",
       "      <th>aa_fullname</th>\n",
       "      <th>aa_company</th>\n",
       "    </tr>\n",
       "  </thead>\n",
       "  <tbody>\n",
       "    <tr>\n",
       "      <th>0</th>\n",
       "      <td>0</td>\n",
       "      <td>3386 Oakgreen   Cove</td>\n",
       "      <td>Kieler</td>\n",
       "      <td>Research Software Limited</td>\n",
       "      <td>NaN</td>\n",
       "      <td>NaN</td>\n",
       "      <td>WI</td>\n",
       "      <td>53812</td>\n",
       "      <td>3386</td>\n",
       "      <td>Oakgreen</td>\n",
       "      <td>Kieler</td>\n",
       "      <td>WI</td>\n",
       "      <td>53812</td>\n",
       "      <td>3386 Oakgreen Cove Kieler WI 53812</td>\n",
       "      <td>NaN</td>\n",
       "      <td>NaN</td>\n",
       "      <td>NaN</td>\n",
       "      <td>NaN</td>\n",
       "      <td>Research Software</td>\n",
       "    </tr>\n",
       "    <tr>\n",
       "      <th>1</th>\n",
       "      <td>1</td>\n",
       "      <td>8042 Tall Pine Trail</td>\n",
       "      <td>Sheffield</td>\n",
       "      <td>Solutions Speed Omega</td>\n",
       "      <td>Robert</td>\n",
       "      <td>Bannister</td>\n",
       "      <td>IL</td>\n",
       "      <td>61361</td>\n",
       "      <td>8042</td>\n",
       "      <td>Tall Pine</td>\n",
       "      <td>Sheffield</td>\n",
       "      <td>IL</td>\n",
       "      <td>61361</td>\n",
       "      <td>8042 Tall Pine Trail Sheffield IL 61361</td>\n",
       "      <td>NaN</td>\n",
       "      <td>Robert</td>\n",
       "      <td>Bannister</td>\n",
       "      <td>Robert Bannister</td>\n",
       "      <td>Solutions Speed Omega</td>\n",
       "    </tr>\n",
       "    <tr>\n",
       "      <th>2</th>\n",
       "      <td>2</td>\n",
       "      <td>9683 Memorial Trail</td>\n",
       "      <td>Malvern</td>\n",
       "      <td>Source Analysis Vision</td>\n",
       "      <td>NaN</td>\n",
       "      <td>NaN</td>\n",
       "      <td>PA</td>\n",
       "      <td>19355</td>\n",
       "      <td>9683</td>\n",
       "      <td>Memorial</td>\n",
       "      <td>Malvern</td>\n",
       "      <td>PA</td>\n",
       "      <td>19355</td>\n",
       "      <td>9683 Memorial Trail Malvern PA 19355</td>\n",
       "      <td>NaN</td>\n",
       "      <td>NaN</td>\n",
       "      <td>NaN</td>\n",
       "      <td>NaN</td>\n",
       "      <td>Source Analysis Vision</td>\n",
       "    </tr>\n",
       "  </tbody>\n",
       "</table>"
      ],
      "text/plain": [
       "<IPython.core.display.HTML object>"
      ]
     },
     "execution_count": 7,
     "metadata": {},
     "output_type": "execute_result"
    }
   ],
   "source": [
    "HTML( partial.head(3).to_html() )"
   ]
  },
  {
   "cell_type": "markdown",
   "metadata": {
    "deletable": true,
    "editable": true
   },
   "source": [
    "## Load Additional Contact Data to Match with the Incomplete Data\n",
    "\n",
    "This is data you might have from your existing CRM or however you keep track of your existing contacts. \n",
    "\n",
    "In this example we're using it because it contains the same contacts as our incomplete data but with various changes made to some fields, and it contains a populated email column."
   ]
  },
  {
   "cell_type": "code",
   "execution_count": 8,
   "metadata": {
    "collapsed": false,
    "deletable": true,
    "editable": true
   },
   "outputs": [
    {
     "data": {
      "text/html": [
       "<table border=\"1\" class=\"dataframe\">\n",
       "  <thead>\n",
       "    <tr style=\"text-align: right;\">\n",
       "      <th></th>\n",
       "      <th>ID</th>\n",
       "      <th>address</th>\n",
       "      <th>city</th>\n",
       "      <th>company</th>\n",
       "      <th>email</th>\n",
       "      <th>first</th>\n",
       "      <th>last</th>\n",
       "      <th>state</th>\n",
       "      <th>zipcode</th>\n",
       "      <th>aa_streetnum</th>\n",
       "      <th>aa_street</th>\n",
       "      <th>aa_city</th>\n",
       "      <th>aa_state</th>\n",
       "      <th>aa_zip</th>\n",
       "      <th>aa_fulladdy</th>\n",
       "      <th>aa_title</th>\n",
       "      <th>aa_firstname</th>\n",
       "      <th>aa_lastname</th>\n",
       "      <th>aa_fullname</th>\n",
       "      <th>aa_company</th>\n",
       "    </tr>\n",
       "  </thead>\n",
       "  <tbody>\n",
       "    <tr>\n",
       "      <th>97</th>\n",
       "      <td>97</td>\n",
       "      <td>9013 Dogwood Grove Circle</td>\n",
       "      <td>Gabbs</td>\n",
       "      <td>Systems Speed Net</td>\n",
       "      <td>Linnie@blanditeum.gov</td>\n",
       "      <td>Catina</td>\n",
       "      <td>Easter</td>\n",
       "      <td>NV</td>\n",
       "      <td>89409</td>\n",
       "      <td>9013</td>\n",
       "      <td>Dogwood Grove</td>\n",
       "      <td>Gabbs</td>\n",
       "      <td>NV</td>\n",
       "      <td>89409</td>\n",
       "      <td>9013 Dogwood Grove Circle Gabbs NV 89409</td>\n",
       "      <td>NaN</td>\n",
       "      <td>Catina</td>\n",
       "      <td>Easter</td>\n",
       "      <td>Catina Easter</td>\n",
       "      <td>Systems Speed Net</td>\n",
       "    </tr>\n",
       "    <tr>\n",
       "      <th>98</th>\n",
       "      <td>98</td>\n",
       "      <td>2240 Meadow Run Trail</td>\n",
       "      <td>Campbell</td>\n",
       "      <td>Innovation Advanced Vision</td>\n",
       "      <td>Erika@utfeugait.us</td>\n",
       "      <td>Isabella</td>\n",
       "      <td>Ulmer</td>\n",
       "      <td>AL</td>\n",
       "      <td>36727</td>\n",
       "      <td>2240</td>\n",
       "      <td>Meadow Run</td>\n",
       "      <td>Campbell</td>\n",
       "      <td>AL</td>\n",
       "      <td>36727</td>\n",
       "      <td>2240 Meadow Run Trail Campbell AL 36727</td>\n",
       "      <td>NaN</td>\n",
       "      <td>Isabella</td>\n",
       "      <td>Ulmer</td>\n",
       "      <td>Isabella Ulmer</td>\n",
       "      <td>Innovation Advanced Vision</td>\n",
       "    </tr>\n",
       "    <tr>\n",
       "      <th>99</th>\n",
       "      <td>99</td>\n",
       "      <td>8428 Misty Creek Street</td>\n",
       "      <td>West Willow</td>\n",
       "      <td>General Research Galaxy</td>\n",
       "      <td>J.o@euismodaliquip.gov</td>\n",
       "      <td>Joaquin</td>\n",
       "      <td>Creed</td>\n",
       "      <td>PA</td>\n",
       "      <td>17583</td>\n",
       "      <td>8428</td>\n",
       "      <td>Misty Creek</td>\n",
       "      <td>West Willow</td>\n",
       "      <td>PA</td>\n",
       "      <td>17583</td>\n",
       "      <td>8428 Misty Creek Street West Willow PA 17583</td>\n",
       "      <td>NaN</td>\n",
       "      <td>Joaquin</td>\n",
       "      <td>Creed</td>\n",
       "      <td>Joaquin Creed</td>\n",
       "      <td>General Research Galaxy</td>\n",
       "    </tr>\n",
       "  </tbody>\n",
       "</table>"
      ],
      "text/plain": [
       "<IPython.core.display.HTML object>"
      ]
     },
     "execution_count": 8,
     "metadata": {},
     "output_type": "execute_result"
    }
   ],
   "source": [
    "COMP_PATH = os.path.join('tests', 'complete_parsed.tsv')\n",
    "COMP_DTYPES = {'aa_streetnum': str, 'aa_zip': str, 'zipcode': str}\n",
    "complete = pd.read_csv(COMP_PATH, sep='\\t', encoding='utf-8', dtype=COMP_DTYPES)\n",
    "\n",
    "HTML(complete.tail(3).to_html())"
   ]
  },
  {
   "cell_type": "markdown",
   "metadata": {},
   "source": [
    "These data have already been run through `build_matching_cols()`, but if we were going to run it again this is how we would describe which columns contain what info:"
   ]
  },
  {
   "cell_type": "code",
   "execution_count": 9,
   "metadata": {
    "collapsed": true
   },
   "outputs": [],
   "source": [
    "COMP_LOC_COLS     = ['address', 'city', 'state', 'zipcode']\n",
    "COMP_CONTACT_COLS = ['first', 'last']\n",
    "COMP_COMPANY_COLS = ['company']"
   ]
  },
  {
   "cell_type": "markdown",
   "metadata": {},
   "source": [
    "## Search for Each Incomplete Contact in the DataFrame of Complete Contacts\n",
    "\n",
    "After preprocessing each dataframe of contacts and creating the set of standardized `_aa` columns we're ready to search for matches:"
   ]
  },
  {
   "cell_type": "code",
   "execution_count": 10,
   "metadata": {
    "collapsed": false,
    "deletable": true,
    "editable": true
   },
   "outputs": [
    {
     "name": "stdout",
     "output_type": "stream",
     "text": [
      "95.0% (19) of search_for records have at least 1 matching record.\n",
      "0.0% (0) of search_for records have multiple matching records.\n"
     ]
    }
   ],
   "source": [
    "from mergepurge import match\n",
    "\n",
    "matches_found = match.find_related(partial, complete)"
   ]
  },
  {
   "cell_type": "markdown",
   "metadata": {},
   "source": [
    "So we found a matching record in the dataframe of complete records for all but one of our incomplete records. \n",
    "\n",
    "The data returned from `find_related()` is a list. In each item of the list is a tuple containing (x,y) where x is the type of match the algorithm used to find the match for that record and y is a list of indices of matching records in the dataframe of complete records."
   ]
  },
  {
   "cell_type": "code",
   "execution_count": 11,
   "metadata": {
    "collapsed": false,
    "deletable": true,
    "editable": true
   },
   "outputs": [
    {
     "data": {
      "text/plain": [
       "('ExactAddress', Int64Index([0], dtype='int64'))"
      ]
     },
     "execution_count": 11,
     "metadata": {},
     "output_type": "execute_result"
    }
   ],
   "source": [
    "matches_found[0]"
   ]
  },
  {
   "cell_type": "markdown",
   "metadata": {},
   "source": [
    "## Add Columns from Complete DataFrame to Matching Records of the Incomplete DataFrame\n",
    "\n",
    "Now that the matches are found you can pull in information from the complete dataframe by using `merge_lists` and just specifying a list of columns from the complete dataframe you want.\n",
    "\n",
    "Columns of the same name will have a suffix added to the column name in the result dataframe."
   ]
  },
  {
   "cell_type": "code",
   "execution_count": 12,
   "metadata": {
    "collapsed": false,
    "deletable": true,
    "editable": true
   },
   "outputs": [
    {
     "name": "stdout",
     "output_type": "stream",
     "text": [
      "ExactAddress      11\n",
      "ExactNameState     8\n",
      "Name: source_type, dtype: int64\n"
     ]
    }
   ],
   "source": [
    "output = match.merge_lists(partial, complete, \n",
    "                           matching_indices=matches_found, \n",
    "                           wanted_cols=['email'])"
   ]
  },
  {
   "cell_type": "markdown",
   "metadata": {},
   "source": [
    "We see some summary output above that tells us how many of the incomplete records were matched by each match type.\n",
    "\n",
    "We can also now check out the end result with an email column now populated."
   ]
  },
  {
   "cell_type": "code",
   "execution_count": 13,
   "metadata": {
    "collapsed": false
   },
   "outputs": [
    {
     "name": "stdout",
     "output_type": "stream",
     "text": [
      "<class 'pandas.core.frame.DataFrame'>\n",
      "Int64Index: 20 entries, 0 to 19\n",
      "Data columns (total 1 columns):\n",
      "email    19 non-null object\n",
      "dtypes: object(1)\n",
      "memory usage: 320.0+ bytes\n"
     ]
    }
   ],
   "source": [
    "output[['email']].info()"
   ]
  },
  {
   "cell_type": "code",
   "execution_count": 14,
   "metadata": {
    "collapsed": false,
    "deletable": true,
    "editable": true
   },
   "outputs": [
    {
     "data": {
      "text/html": [
       "<div>\n",
       "<table border=\"1\" class=\"dataframe\">\n",
       "  <thead>\n",
       "    <tr style=\"text-align: right;\">\n",
       "      <th></th>\n",
       "      <th>first</th>\n",
       "      <th>last</th>\n",
       "      <th>company</th>\n",
       "      <th>email</th>\n",
       "    </tr>\n",
       "  </thead>\n",
       "  <tbody>\n",
       "    <tr>\n",
       "      <th>0</th>\n",
       "      <td>NaN</td>\n",
       "      <td>NaN</td>\n",
       "      <td>Research Software Limited</td>\n",
       "      <td>K.a@praesentfacilisi.com</td>\n",
       "    </tr>\n",
       "    <tr>\n",
       "      <th>1</th>\n",
       "      <td>Robert</td>\n",
       "      <td>Bannister</td>\n",
       "      <td>Solutions Speed Omega</td>\n",
       "      <td>F.Ingraham@wisilobortis.edu</td>\n",
       "    </tr>\n",
       "    <tr>\n",
       "      <th>2</th>\n",
       "      <td>NaN</td>\n",
       "      <td>NaN</td>\n",
       "      <td>Source Analysis Vision</td>\n",
       "      <td>Barbara@nullasuscipit.com</td>\n",
       "    </tr>\n",
       "    <tr>\n",
       "      <th>3</th>\n",
       "      <td>NaN</td>\n",
       "      <td>Donahue</td>\n",
       "      <td>NaN</td>\n",
       "      <td>A.l@autemautem.tv</td>\n",
       "    </tr>\n",
       "    <tr>\n",
       "      <th>4</th>\n",
       "      <td>Josefa</td>\n",
       "      <td>Horsley</td>\n",
       "      <td>Net West</td>\n",
       "      <td>J.Horsley@lobortiselitsed.eu</td>\n",
       "    </tr>\n",
       "  </tbody>\n",
       "</table>\n",
       "</div>"
      ],
      "text/plain": [
       "    first       last                    company                         email\n",
       "0     NaN        NaN  Research Software Limited      K.a@praesentfacilisi.com\n",
       "1  Robert  Bannister      Solutions Speed Omega   F.Ingraham@wisilobortis.edu\n",
       "2     NaN        NaN     Source Analysis Vision     Barbara@nullasuscipit.com\n",
       "3     NaN    Donahue                        NaN             A.l@autemautem.tv\n",
       "4  Josefa    Horsley                   Net West  J.Horsley@lobortiselitsed.eu"
      ]
     },
     "execution_count": 14,
     "metadata": {},
     "output_type": "execute_result"
    }
   ],
   "source": [
    "output[['first','last','company','email']].head()"
   ]
  },
  {
   "cell_type": "markdown",
   "metadata": {},
   "source": [
    "## Cleanup\n",
    "\n",
    "If you no longer have use for the standardized `aa_` matching columns you can easily remove them:"
   ]
  },
  {
   "cell_type": "code",
   "execution_count": 15,
   "metadata": {
    "collapsed": true,
    "deletable": true,
    "editable": true
   },
   "outputs": [],
   "source": [
    "built_cols = [col for col in output.columns if col.startswith('aa_')]\n",
    "\n",
    "output.drop(built_cols, axis=1, inplace=True)"
   ]
  },
  {
   "cell_type": "code",
   "execution_count": 16,
   "metadata": {
    "collapsed": false,
    "deletable": true,
    "editable": true
   },
   "outputs": [
    {
     "data": {
      "text/html": [
       "<div>\n",
       "<table border=\"1\" class=\"dataframe\">\n",
       "  <thead>\n",
       "    <tr style=\"text-align: right;\">\n",
       "      <th></th>\n",
       "      <th>ID</th>\n",
       "      <th>address</th>\n",
       "      <th>city</th>\n",
       "      <th>company</th>\n",
       "      <th>first</th>\n",
       "      <th>last</th>\n",
       "      <th>state</th>\n",
       "      <th>zipcode</th>\n",
       "      <th>dest_ID</th>\n",
       "      <th>email</th>\n",
       "      <th>multiple_emails</th>\n",
       "      <th>source_ID</th>\n",
       "      <th>source_type</th>\n",
       "    </tr>\n",
       "  </thead>\n",
       "  <tbody>\n",
       "    <tr>\n",
       "      <th>0</th>\n",
       "      <td>0</td>\n",
       "      <td>3386 Oakgreen   Cove</td>\n",
       "      <td>Kieler</td>\n",
       "      <td>Research Software Limited</td>\n",
       "      <td>NaN</td>\n",
       "      <td>NaN</td>\n",
       "      <td>WI</td>\n",
       "      <td>53812</td>\n",
       "      <td>0.0</td>\n",
       "      <td>K.a@praesentfacilisi.com</td>\n",
       "      <td>False</td>\n",
       "      <td>0.0</td>\n",
       "      <td>ExactAddress</td>\n",
       "    </tr>\n",
       "    <tr>\n",
       "      <th>1</th>\n",
       "      <td>1</td>\n",
       "      <td>8042 Tall Pine Trail</td>\n",
       "      <td>Sheffield</td>\n",
       "      <td>Solutions Speed Omega</td>\n",
       "      <td>Robert</td>\n",
       "      <td>Bannister</td>\n",
       "      <td>IL</td>\n",
       "      <td>61361</td>\n",
       "      <td>1.0</td>\n",
       "      <td>F.Ingraham@wisilobortis.edu</td>\n",
       "      <td>False</td>\n",
       "      <td>1.0</td>\n",
       "      <td>ExactAddress</td>\n",
       "    </tr>\n",
       "    <tr>\n",
       "      <th>2</th>\n",
       "      <td>2</td>\n",
       "      <td>9683 Memorial Trail</td>\n",
       "      <td>Malvern</td>\n",
       "      <td>Source Analysis Vision</td>\n",
       "      <td>NaN</td>\n",
       "      <td>NaN</td>\n",
       "      <td>PA</td>\n",
       "      <td>19355</td>\n",
       "      <td>2.0</td>\n",
       "      <td>Barbara@nullasuscipit.com</td>\n",
       "      <td>False</td>\n",
       "      <td>2.0</td>\n",
       "      <td>ExactAddress</td>\n",
       "    </tr>\n",
       "    <tr>\n",
       "      <th>3</th>\n",
       "      <td>3</td>\n",
       "      <td>4172 Hunters Horn Way Suite 100</td>\n",
       "      <td>Hoople</td>\n",
       "      <td>NaN</td>\n",
       "      <td>NaN</td>\n",
       "      <td>Donahue</td>\n",
       "      <td>ND</td>\n",
       "      <td>58243</td>\n",
       "      <td>3.0</td>\n",
       "      <td>A.l@autemautem.tv</td>\n",
       "      <td>False</td>\n",
       "      <td>3.0</td>\n",
       "      <td>ExactAddress</td>\n",
       "    </tr>\n",
       "    <tr>\n",
       "      <th>4</th>\n",
       "      <td>4</td>\n",
       "      <td>4348 Perkins Parkway</td>\n",
       "      <td>Belvidere</td>\n",
       "      <td>Net West</td>\n",
       "      <td>Josefa</td>\n",
       "      <td>Horsley</td>\n",
       "      <td>NC</td>\n",
       "      <td>27919</td>\n",
       "      <td>4.0</td>\n",
       "      <td>J.Horsley@lobortiselitsed.eu</td>\n",
       "      <td>False</td>\n",
       "      <td>4.0</td>\n",
       "      <td>ExactNameState</td>\n",
       "    </tr>\n",
       "  </tbody>\n",
       "</table>\n",
       "</div>"
      ],
      "text/plain": [
       "   ID                          address        city                    company  \\\n",
       "0   0             3386 Oakgreen   Cove      Kieler  Research Software Limited   \n",
       "1   1             8042 Tall Pine Trail   Sheffield      Solutions Speed Omega   \n",
       "2   2              9683 Memorial Trail     Malvern     Source Analysis Vision   \n",
       "3   3  4172 Hunters Horn Way Suite 100      Hoople                        NaN   \n",
       "4   4             4348 Perkins Parkway   Belvidere                   Net West   \n",
       "\n",
       "    first       last state zipcode  dest_ID                         email  \\\n",
       "0     NaN        NaN    WI   53812      0.0      K.a@praesentfacilisi.com   \n",
       "1  Robert  Bannister    IL   61361      1.0   F.Ingraham@wisilobortis.edu   \n",
       "2     NaN        NaN    PA   19355      2.0     Barbara@nullasuscipit.com   \n",
       "3     NaN    Donahue    ND   58243      3.0             A.l@autemautem.tv   \n",
       "4  Josefa    Horsley    NC   27919      4.0  J.Horsley@lobortiselitsed.eu   \n",
       "\n",
       "  multiple_emails  source_ID     source_type  \n",
       "0           False        0.0    ExactAddress  \n",
       "1           False        1.0    ExactAddress  \n",
       "2           False        2.0    ExactAddress  \n",
       "3           False        3.0    ExactAddress  \n",
       "4           False        4.0  ExactNameState  "
      ]
     },
     "execution_count": 16,
     "metadata": {},
     "output_type": "execute_result"
    }
   ],
   "source": [
    "output.head()"
   ]
  },
  {
   "cell_type": "markdown",
   "metadata": {
    "collapsed": true,
    "deletable": true,
    "editable": true
   },
   "source": [
    "## System Info"
   ]
  },
  {
   "cell_type": "code",
   "execution_count": 17,
   "metadata": {
    "collapsed": false
   },
   "outputs": [
    {
     "name": "stdout",
     "output_type": "stream",
     "text": [
      "20/03/2017 18:00:13\n",
      "\n",
      "CPython 3.4.2\n",
      "IPython 5.3.0\n",
      "\n",
      "compiler   : GCC 4.2.1 Compatible Apple LLVM 5.1 (clang-503.0.40)\n",
      "system     : Darwin\n",
      "release    : 12.6.0\n",
      "machine    : x86_64\n",
      "processor  : i386\n",
      "CPU cores  : 4\n",
      "interpreter: 64bit\n"
     ]
    }
   ],
   "source": [
    "try:\n",
    "    %load_ext watermark\n",
    "except ImportError as e:\n",
    "    %install_ext https://raw.githubusercontent.com/rasbt/python_reference/master/ipython_magic/watermark.py\n",
    "    %load_ext watermark\n",
    "\n",
    "%watermark"
   ]
  },
  {
   "cell_type": "code",
   "execution_count": 18,
   "metadata": {
    "collapsed": false,
    "scrolled": true
   },
   "outputs": [
    {
     "data": {
      "text/plain": [
       "['appdirs==1.4.3',\n",
       " 'appnope==0.1.0',\n",
       " 'backports-abc==0.5',\n",
       " 'backports.csv==1.0.4',\n",
       " 'barnum==0.5.1',\n",
       " 'bleach==1.5.0',\n",
       " 'cooperv==0.1.0',\n",
       " 'coverage==4.3.4',\n",
       " 'decorator==4.0.11',\n",
       " 'doublemetaphone==0.1',\n",
       " 'entrypoints==0.2.2',\n",
       " 'et-xmlfile==1.0.1',\n",
       " 'faker==0.7.10',\n",
       " 'flake8==3.3.0',\n",
       " 'future==0.16.0',\n",
       " 'fuzzywuzzy==0.15.0',\n",
       " 'haversine==0.4.5',\n",
       " 'html5lib==0.9999999',\n",
       " 'ipykernel==4.5.2',\n",
       " 'ipython-genutils==0.1.0',\n",
       " 'ipython==5.3.0',\n",
       " 'ipywidgets==6.0.0',\n",
       " 'jdcal==1.3',\n",
       " 'jinja2==2.9.5',\n",
       " 'jsonschema==2.6.0',\n",
       " 'jupyter-client==5.0.0',\n",
       " 'jupyter-console==5.1.0',\n",
       " 'jupyter-core==4.3.0',\n",
       " 'jupyter==1.0.0',\n",
       " 'lxml==3.7.3',\n",
       " 'markupsafe==0.23',\n",
       " 'mccabe==0.6.1',\n",
       " 'mergepurge==0.1.0',\n",
       " 'mistune==0.7.3',\n",
       " 'nbconvert==5.1.1',\n",
       " 'nbformat==4.3.0',\n",
       " 'nose==1.3.7',\n",
       " 'notebook==4.4.1',\n",
       " 'numpy==1.12.0',\n",
       " 'openpyxl==2.4.5',\n",
       " 'packaging==16.8',\n",
       " 'pandas==0.19.2',\n",
       " 'pandocfilters==1.4.1',\n",
       " 'parserator==0.6.5',\n",
       " 'pexpect==4.2.1',\n",
       " 'pickleshare==0.7.4',\n",
       " 'pip==9.0.1',\n",
       " 'probableparsing==0.0.1',\n",
       " 'probablepeople==0.5.3',\n",
       " 'prompt-toolkit==1.0.13',\n",
       " 'ptyprocess==0.5.1',\n",
       " 'py==1.4.32',\n",
       " 'pycodestyle==2.3.1',\n",
       " 'pyflakes==1.5.0',\n",
       " 'pygments==2.2.0',\n",
       " 'pyparsing==2.2.0',\n",
       " 'pytest==3.0.7',\n",
       " 'python-crfsuite==0.9.1',\n",
       " 'python-dateutil==2.6.0',\n",
       " 'python-levenshtein==0.12.0',\n",
       " 'pytz==2016.10',\n",
       " 'pyzmq==16.0.2',\n",
       " 'qtconsole==4.2.1',\n",
       " 'requests==2.13.0',\n",
       " 'setuptools==34.3.1',\n",
       " 'simplegeneric==0.8.1',\n",
       " 'six==1.10.0',\n",
       " 'terminado==0.6',\n",
       " 'testpath==0.3',\n",
       " 'tornado==4.4.2',\n",
       " 'traitlets==4.3.2',\n",
       " 'usaddress==0.5.10',\n",
       " 'wcwidth==0.1.7',\n",
       " 'widgetsnbextension==2.0.0',\n",
       " 'xlrd==1.0.0',\n",
       " 'xlsxwriter==0.9.6',\n",
       " 'zipcode==2.0.0']"
      ]
     },
     "execution_count": 18,
     "metadata": {},
     "output_type": "execute_result"
    }
   ],
   "source": [
    "import pip\n",
    "sorted([\"%s==%s\" % (i.key, i.version) for i in pip.get_installed_distributions()])"
   ]
  },
  {
   "cell_type": "code",
   "execution_count": null,
   "metadata": {
    "collapsed": true
   },
   "outputs": [],
   "source": []
  }
 ],
 "metadata": {
  "kernelspec": {
   "display_name": "Python 3",
   "language": "python",
   "name": "python3"
  },
  "language_info": {
   "codemirror_mode": {
    "name": "ipython",
    "version": 3
   },
   "file_extension": ".py",
   "mimetype": "text/x-python",
   "name": "python",
   "nbconvert_exporter": "python",
   "pygments_lexer": "ipython3",
   "version": "3.4.2"
  }
 },
 "nbformat": 4,
 "nbformat_minor": 2
}
